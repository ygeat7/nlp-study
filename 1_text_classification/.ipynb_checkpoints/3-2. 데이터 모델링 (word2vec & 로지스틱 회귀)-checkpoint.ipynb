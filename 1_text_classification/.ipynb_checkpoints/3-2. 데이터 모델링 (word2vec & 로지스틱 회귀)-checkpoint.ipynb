{
 "cells": [
  {
   "cell_type": "code",
   "execution_count": 1,
   "metadata": {},
   "outputs": [],
   "source": [
    "import pandas as pd\n",
    "\n",
    "DATA_IN_PATH = './data_in/'\n",
    "TRAIN_CLEAN_DATA = 'train_clean.csv'\n",
    "\n",
    "train_data = pd.read_csv(DATA_IN_PATH + TRAIN_CLEAN_DATA)\n",
    "\n",
    "reviews = list(train_data['review'])\n",
    "sentiments = list(train_data['sentiment'])\n",
    "\n",
    "sentences = []\n",
    "for review in reviews:\n",
    "    sentences.append(review.split())"
   ]
  },
  {
   "cell_type": "code",
   "execution_count": 2,
   "metadata": {},
   "outputs": [],
   "source": [
    "# word2vec 벡터화\n",
    "# 하이퍼파라미터 정의\n",
    "num_features = 300    # 워드 벡터 특징값 수 -> 한개의 단어가 해당 특징 값 수로 표현된 벡터로 구성\n",
    "min_word_count = 40   # 단어에 대한 최소 빈도 수 -> 해당 값 이하로 사용되는 단어는 배제\n",
    "num_workers = 4       # 프로세스 개수\n",
    "context = 10          # 컨텍스트 윈도 크기\n",
    "downsampling = 1e-3   # 다운 샘플링 비율"
   ]
  },
  {
   "cell_type": "code",
   "execution_count": 8,
   "metadata": {
    "scrolled": true
   },
   "outputs": [
    {
     "name": "stdout",
     "output_type": "stream",
     "text": [
      "Collecting gensim\n",
      "  Downloading gensim-4.2.0.tar.gz (23.2 MB)\n",
      "     |████████████████████████████████| 23.2 MB 142 kB/s             \n",
      "\u001b[?25h  Preparing metadata (setup.py) ... \u001b[?25ldone\n",
      "\u001b[?25hRequirement already satisfied: numpy>=1.17.0 in /usr/local/lib/python3.6/dist-packages (from gensim) (1.18.1)\n",
      "Requirement already satisfied: scipy>=0.18.1 in /usr/local/lib/python3.6/dist-packages (from gensim) (1.4.1)\n",
      "Collecting smart_open>=1.8.1\n",
      "  Downloading smart_open-6.4.0-py3-none-any.whl (57 kB)\n",
      "     |████████████████████████████████| 57 kB 4.6 MB/s             \n",
      "\u001b[?25hBuilding wheels for collected packages: gensim\n",
      "  Building wheel for gensim (setup.py) ... \u001b[?25ldone\n",
      "\u001b[?25h  Created wheel for gensim: filename=gensim-4.2.0-cp36-cp36m-linux_x86_64.whl size=25519652 sha256=cea6ef687dda7829d1fb420f1d4661a2b87c8a2f6be8cb8778e05a90308d5e3b\n",
      "  Stored in directory: /root/.cache/pip/wheels/44/1e/2b/b0056a533d057c3ed56c84fbdd79cca690496f4cd7c03c157c\n",
      "Successfully built gensim\n",
      "Installing collected packages: smart-open, gensim\n",
      "Successfully installed gensim-4.2.0 smart-open-6.4.0\n",
      "\u001b[33mWARNING: Running pip as the 'root' user can result in broken permissions and conflicting behaviour with the system package manager. It is recommended to use a virtual environment instead: https://pip.pypa.io/warnings/venv\u001b[0m\n"
     ]
    }
   ],
   "source": [
    "!pip install gensim"
   ]
  },
  {
   "cell_type": "code",
   "execution_count": 11,
   "metadata": {},
   "outputs": [
    {
     "name": "stdout",
     "output_type": "stream",
     "text": [
      "Collecting dataclasses\n",
      "  Downloading dataclasses-0.8-py3-none-any.whl (19 kB)\n",
      "Installing collected packages: dataclasses\n",
      "Successfully installed dataclasses-0.8\n",
      "\u001b[33mWARNING: Running pip as the 'root' user can result in broken permissions and conflicting behaviour with the system package manager. It is recommended to use a virtual environment instead: https://pip.pypa.io/warnings/venv\u001b[0m\n"
     ]
    }
   ],
   "source": [
    "!pip install dataclasses"
   ]
  },
  {
   "cell_type": "code",
   "execution_count": 3,
   "metadata": {},
   "outputs": [],
   "source": [
    "import logging\n",
    "logging.basicConfig(format='%(asctime)s : %(levelname)s : %(message)s', level=logging.INFO)"
   ]
  },
  {
   "cell_type": "code",
   "execution_count": 4,
   "metadata": {},
   "outputs": [
    {
     "name": "stderr",
     "output_type": "stream",
     "text": [
      "2023-10-05 10:08:28,968 : INFO : collecting all words and their counts\n",
      "2023-10-05 10:08:28,970 : INFO : PROGRESS: at sentence #0, processed 0 words, keeping 0 word types\n"
     ]
    },
    {
     "name": "stdout",
     "output_type": "stream",
     "text": [
      "Training model...\n"
     ]
    },
    {
     "name": "stderr",
     "output_type": "stream",
     "text": [
      "2023-10-05 10:08:29,240 : INFO : PROGRESS: at sentence #10000, processed 1205223 words, keeping 51374 word types\n",
      "2023-10-05 10:08:29,579 : INFO : PROGRESS: at sentence #20000, processed 2396605 words, keeping 67660 word types\n",
      "2023-10-05 10:08:29,750 : INFO : collected 74065 word types from a corpus of 2988089 raw words and 25000 sentences\n",
      "2023-10-05 10:08:29,750 : INFO : Creating a fresh vocabulary\n",
      "2023-10-05 10:08:29,861 : INFO : Word2Vec lifecycle event {'msg': 'effective_min_count=40 retains 8160 unique words (11.02% of original 74065, drops 65905)', 'datetime': '2023-10-05T10:08:29.860618', 'gensim': '4.2.0', 'python': '3.6.9 (default, Nov  7 2019, 10:44:02) \\n[GCC 8.3.0]', 'platform': 'Linux-5.15.0-84-generic-x86_64-with-Ubuntu-18.04-bionic', 'event': 'prepare_vocab'}\n",
      "2023-10-05 10:08:29,862 : INFO : Word2Vec lifecycle event {'msg': 'effective_min_count=40 leaves 2627273 word corpus (87.92% of original 2988089, drops 360816)', 'datetime': '2023-10-05T10:08:29.862045', 'gensim': '4.2.0', 'python': '3.6.9 (default, Nov  7 2019, 10:44:02) \\n[GCC 8.3.0]', 'platform': 'Linux-5.15.0-84-generic-x86_64-with-Ubuntu-18.04-bionic', 'event': 'prepare_vocab'}\n",
      "2023-10-05 10:08:29,964 : INFO : deleting the raw counts dictionary of 74065 items\n",
      "2023-10-05 10:08:29,966 : INFO : sample=0.001 downsamples 30 most-common words\n",
      "2023-10-05 10:08:29,967 : INFO : Word2Vec lifecycle event {'msg': 'downsampling leaves estimated 2494384.49928802 word corpus (94.9%% of prior 2627273)', 'datetime': '2023-10-05T10:08:29.967456', 'gensim': '4.2.0', 'python': '3.6.9 (default, Nov  7 2019, 10:44:02) \\n[GCC 8.3.0]', 'platform': 'Linux-5.15.0-84-generic-x86_64-with-Ubuntu-18.04-bionic', 'event': 'prepare_vocab'}\n",
      "2023-10-05 10:08:30,121 : INFO : estimated required memory for 8160 words and 300 dimensions: 23664000 bytes\n",
      "2023-10-05 10:08:30,122 : INFO : resetting layer weights\n",
      "2023-10-05 10:08:30,139 : INFO : Word2Vec lifecycle event {'update': False, 'trim_rule': 'None', 'datetime': '2023-10-05T10:08:30.139423', 'gensim': '4.2.0', 'python': '3.6.9 (default, Nov  7 2019, 10:44:02) \\n[GCC 8.3.0]', 'platform': 'Linux-5.15.0-84-generic-x86_64-with-Ubuntu-18.04-bionic', 'event': 'build_vocab'}\n",
      "2023-10-05 10:08:30,140 : INFO : Word2Vec lifecycle event {'msg': 'training model with 4 workers on 8160 vocabulary and 300 features, using sg=0 hs=0 sample=0.001 negative=5 window=10 shrink_windows=True', 'datetime': '2023-10-05T10:08:30.140207', 'gensim': '4.2.0', 'python': '3.6.9 (default, Nov  7 2019, 10:44:02) \\n[GCC 8.3.0]', 'platform': 'Linux-5.15.0-84-generic-x86_64-with-Ubuntu-18.04-bionic', 'event': 'train'}\n",
      "2023-10-05 10:08:31,146 : INFO : EPOCH 0 - PROGRESS: at 30.16% examples, 760012 words/s, in_qsize 7, out_qsize 0\n",
      "2023-10-05 10:08:32,149 : INFO : EPOCH 0 - PROGRESS: at 69.63% examples, 871778 words/s, in_qsize 7, out_qsize 0\n",
      "2023-10-05 10:08:32,904 : INFO : EPOCH 0: training on 2988089 raw words (2493892 effective words) took 2.8s, 903718 effective words/s\n",
      "2023-10-05 10:08:33,913 : INFO : EPOCH 1 - PROGRESS: at 38.07% examples, 955039 words/s, in_qsize 7, out_qsize 0\n",
      "2023-10-05 10:08:34,917 : INFO : EPOCH 1 - PROGRESS: at 75.99% examples, 947954 words/s, in_qsize 7, out_qsize 0\n",
      "2023-10-05 10:08:35,526 : INFO : EPOCH 1: training on 2988089 raw words (2494381 effective words) took 2.6s, 952737 effective words/s\n",
      "2023-10-05 10:08:36,534 : INFO : EPOCH 2 - PROGRESS: at 37.76% examples, 946449 words/s, in_qsize 7, out_qsize 0\n",
      "2023-10-05 10:08:37,539 : INFO : EPOCH 2 - PROGRESS: at 77.68% examples, 968676 words/s, in_qsize 7, out_qsize 0\n",
      "2023-10-05 10:08:38,091 : INFO : EPOCH 2: training on 2988089 raw words (2494723 effective words) took 2.6s, 974072 effective words/s\n",
      "2023-10-05 10:08:39,099 : INFO : EPOCH 3 - PROGRESS: at 37.39% examples, 938139 words/s, in_qsize 7, out_qsize 0\n",
      "2023-10-05 10:08:40,108 : INFO : EPOCH 3 - PROGRESS: at 76.69% examples, 953742 words/s, in_qsize 7, out_qsize 0\n",
      "2023-10-05 10:08:40,801 : INFO : EPOCH 3: training on 2988089 raw words (2493664 effective words) took 2.7s, 921446 effective words/s\n",
      "2023-10-05 10:08:41,814 : INFO : EPOCH 4 - PROGRESS: at 30.50% examples, 762681 words/s, in_qsize 8, out_qsize 0\n",
      "2023-10-05 10:08:42,824 : INFO : EPOCH 4 - PROGRESS: at 60.26% examples, 750265 words/s, in_qsize 8, out_qsize 0\n",
      "2023-10-05 10:08:43,828 : INFO : EPOCH 4 - PROGRESS: at 95.46% examples, 788829 words/s, in_qsize 7, out_qsize 0\n",
      "2023-10-05 10:08:43,964 : INFO : EPOCH 4: training on 2988089 raw words (2493952 effective words) took 3.2s, 789632 effective words/s\n",
      "2023-10-05 10:08:43,965 : INFO : Word2Vec lifecycle event {'msg': 'training on 14940445 raw words (12470612 effective words) took 13.8s, 902088 effective words/s', 'datetime': '2023-10-05T10:08:43.965086', 'gensim': '4.2.0', 'python': '3.6.9 (default, Nov  7 2019, 10:44:02) \\n[GCC 8.3.0]', 'platform': 'Linux-5.15.0-84-generic-x86_64-with-Ubuntu-18.04-bionic', 'event': 'train'}\n",
      "2023-10-05 10:08:43,965 : INFO : Word2Vec lifecycle event {'params': 'Word2Vec<vocab=8160, vector_size=300, alpha=0.025>', 'datetime': '2023-10-05T10:08:43.965782', 'gensim': '4.2.0', 'python': '3.6.9 (default, Nov  7 2019, 10:44:02) \\n[GCC 8.3.0]', 'platform': 'Linux-5.15.0-84-generic-x86_64-with-Ubuntu-18.04-bionic', 'event': 'created'}\n"
     ]
    }
   ],
   "source": [
    "from gensim.models import word2vec\n",
    "print(\"Training model...\")\n",
    "\n",
    "# 기본적으로 CBOW 방식으로 학습 (초기화 매개변수 sg=0 / sg=1일 경우 skip-gram 방식으로 학습)\n",
    "model = word2vec.Word2Vec(sentences,\n",
    "                          workers = num_workers,\n",
    "                          vector_size = num_features,\n",
    "                          min_count = min_word_count,\n",
    "                          window = context,\n",
    "                          sample = downsampling)"
   ]
  },
  {
   "cell_type": "code",
   "execution_count": 7,
   "metadata": {},
   "outputs": [
    {
     "name": "stderr",
     "output_type": "stream",
     "text": [
      "2023-10-05 10:20:14,722 : INFO : Word2Vec lifecycle event {'fname_or_handle': '300features_40minwords_10context', 'separately': 'None', 'sep_limit': 10485760, 'ignore': frozenset(), 'datetime': '2023-10-05T10:20:14.722685', 'gensim': '4.2.0', 'python': '3.6.9 (default, Nov  7 2019, 10:44:02) \\n[GCC 8.3.0]', 'platform': 'Linux-5.15.0-84-generic-x86_64-with-Ubuntu-18.04-bionic', 'event': 'saving'}\n",
      "2023-10-05 10:20:14,724 : INFO : not storing attribute cum_table\n",
      "2023-10-05 10:20:14,790 : INFO : saved 300features_40minwords_10context\n"
     ]
    }
   ],
   "source": [
    "model_name = \"300features_40minwords_10context\"\n",
    "model.save(model_name)"
   ]
  },
  {
   "cell_type": "code",
   "execution_count": 8,
   "metadata": {},
   "outputs": [],
   "source": [
    "def get_features(words, model, num_features):\n",
    "    # 출력 벡터 초기화\n",
    "    feature_vector = np.zeros((num_features), dtype=np.float32)\n",
    "    \n",
    "    num_words = 0\n",
    "    # 어휘 사전 준비\n",
    "    index2word_set = set(model.wv.index_to_key)\n",
    "    \n",
    "    for w in words:\n",
    "        if w in index2word_set:\n",
    "            num_words += 1\n",
    "            # 사전에 해당하는 단어에 대해 단어 벡터를 더함\n",
    "            feature_vector = np.add(feature_vector, model.wv[w])\n",
    "    # 문장의 단어 수만큼 나누어 단어 벡터의 평균값을 문장 벡터로 함\n",
    "    feature_vector = np.divide(feature_vector, num_words)\n",
    "    return feature_vector"
   ]
  },
  {
   "cell_type": "code",
   "execution_count": 15,
   "metadata": {},
   "outputs": [],
   "source": [
    "index2word_set = set(model.wv.index_to_key)"
   ]
  },
  {
   "cell_type": "code",
   "execution_count": 21,
   "metadata": {},
   "outputs": [
    {
     "name": "stdout",
     "output_type": "stream",
     "text": [
      "True\n"
     ]
    }
   ],
   "source": [
    "if 'saw' in index2word_set:\n",
    "    print('True')"
   ]
  },
  {
   "cell_type": "code",
   "execution_count": 18,
   "metadata": {},
   "outputs": [
    {
     "data": {
      "text/plain": [
       "'saw movie child broke heart story unfinished ending grew many great anime movies one favourites unusual story unfairness cruelty loneliness life choices undone need others chirin made alone wolf kills mother wolf alone chirin follows mountain wolf kill lamb even though night says maybe eat tomorrow tape broken degraded age use repair watch movie someday cry hard child stories like depth feeling intricacy meaning rare sad story never encountered catharsis beautifully made glad seen movie glad saw child'"
      ]
     },
     "execution_count": 18,
     "metadata": {},
     "output_type": "execute_result"
    }
   ],
   "source": [
    "review"
   ]
  },
  {
   "cell_type": "code",
   "execution_count": null,
   "metadata": {},
   "outputs": [],
   "source": []
  }
 ],
 "metadata": {
  "kernelspec": {
   "display_name": "Python 3",
   "language": "python",
   "name": "python3"
  },
  "language_info": {
   "codemirror_mode": {
    "name": "ipython",
    "version": 3
   },
   "file_extension": ".py",
   "mimetype": "text/x-python",
   "name": "python",
   "nbconvert_exporter": "python",
   "pygments_lexer": "ipython3",
   "version": "3.6.9"
  }
 },
 "nbformat": 4,
 "nbformat_minor": 4
}
